{
 "cells": [
  {
   "cell_type": "code",
   "execution_count": 2,
   "metadata": {},
   "outputs": [
    {
     "name": "stdout",
     "output_type": "stream",
     "text": [
      "/Users/eyal.beigman/COVID19/Data/us-counties.csv\n",
      "/Users/eyal.beigman/COVID19/Data/.DS_Store\n",
      "/Users/eyal.beigman/COVID19/Data/covid-19-italy-situation-monitoring-by-region.csv\n",
      "/Users/eyal.beigman/COVID19/Data/covid-19-italy-situation-monitoring-by-region(1).csv\n",
      "/Users/eyal.beigman/COVID19/Data/us-counties_o.csv\n",
      "/Users/eyal.beigman/COVID19/Data/covid19-global-forecasting-week-3/test.csv\n",
      "/Users/eyal.beigman/COVID19/Data/covid19-global-forecasting-week-3/submission.csv\n",
      "/Users/eyal.beigman/COVID19/Data/covid19-global-forecasting-week-3/train.csv\n",
      "/Users/eyal.beigman/COVID19/Data/covid19-global-forecasting-week-2/test.csv\n",
      "/Users/eyal.beigman/COVID19/Data/covid19-global-forecasting-week-2/submission.csv\n",
      "/Users/eyal.beigman/COVID19/Data/covid19-global-forecasting-week-2/train.csv\n"
     ]
    }
   ],
   "source": [
    "import os\n",
    "for dirname, _, filenames in os.walk('/Users/eyal.beigman/COVID19/Data/'):\n",
    "    for filename in filenames:\n",
    "        print(os.path.join(dirname, filename))\n",
    "\n",
    "# Any results you write to the current directory are saved as output.\n",
    "\n",
    "\n",
    "import numpy as np # linear algebra\n",
    "import pandas as pd # data processing, CSV file I/O (e.g. pd.read_csv)\n",
    "import matplotlib.pyplot as plt #visualization\n",
    "from toolz import compose"
   ]
  },
  {
   "cell_type": "code",
   "execution_count": 3,
   "metadata": {},
   "outputs": [],
   "source": [
    "mycolumns=['state','region_code','region','latitude','longitude','recovered','ICI',\n",
    "         'total_hospitelized','home_quarantine','total_positives','delta_total_positives',\n",
    "         'new_positives','discharged_helthy','deaths','cases','swabs',\n",
    "         'note_italian','note_english']\n"
   ]
  },
  {
   "cell_type": "code",
   "execution_count": 4,
   "metadata": {},
   "outputs": [
    {
     "data": {
      "text/html": [
       "<div>\n",
       "<style scoped>\n",
       "    .dataframe tbody tr th:only-of-type {\n",
       "        vertical-align: middle;\n",
       "    }\n",
       "\n",
       "    .dataframe tbody tr th {\n",
       "        vertical-align: top;\n",
       "    }\n",
       "\n",
       "    .dataframe thead th {\n",
       "        text-align: right;\n",
       "    }\n",
       "</style>\n",
       "<table border=\"1\" class=\"dataframe\">\n",
       "  <thead>\n",
       "    <tr style=\"text-align: right;\">\n",
       "      <th></th>\n",
       "      <th>state</th>\n",
       "      <th>region_code</th>\n",
       "      <th>region</th>\n",
       "      <th>latitude</th>\n",
       "      <th>longitude</th>\n",
       "      <th>recovered</th>\n",
       "      <th>ICI</th>\n",
       "      <th>total_hospitelized</th>\n",
       "      <th>home_quarantine</th>\n",
       "      <th>total_positives</th>\n",
       "      <th>delta_total_positives</th>\n",
       "      <th>new_positives</th>\n",
       "      <th>discharged_helthy</th>\n",
       "      <th>deaths</th>\n",
       "      <th>cases</th>\n",
       "      <th>swabs</th>\n",
       "      <th>note_italian</th>\n",
       "      <th>note_english</th>\n",
       "    </tr>\n",
       "    <tr>\n",
       "      <th>data</th>\n",
       "      <th></th>\n",
       "      <th></th>\n",
       "      <th></th>\n",
       "      <th></th>\n",
       "      <th></th>\n",
       "      <th></th>\n",
       "      <th></th>\n",
       "      <th></th>\n",
       "      <th></th>\n",
       "      <th></th>\n",
       "      <th></th>\n",
       "      <th></th>\n",
       "      <th></th>\n",
       "      <th></th>\n",
       "      <th></th>\n",
       "      <th></th>\n",
       "      <th></th>\n",
       "      <th></th>\n",
       "    </tr>\n",
       "  </thead>\n",
       "  <tbody>\n",
       "    <tr>\n",
       "      <th>2020-04-09 17:00:00</th>\n",
       "      <td>ITA</td>\n",
       "      <td>9</td>\n",
       "      <td>Toscana</td>\n",
       "      <td>43.769231</td>\n",
       "      <td>11.255889</td>\n",
       "      <td>1038</td>\n",
       "      <td>256</td>\n",
       "      <td>1294</td>\n",
       "      <td>4409</td>\n",
       "      <td>5703</td>\n",
       "      <td>146</td>\n",
       "      <td>173</td>\n",
       "      <td>441</td>\n",
       "      <td>408</td>\n",
       "      <td>6552</td>\n",
       "      <td>65461</td>\n",
       "      <td>NaN</td>\n",
       "      <td>NaN</td>\n",
       "    </tr>\n",
       "    <tr>\n",
       "      <th>2020-04-09 17:00:00</th>\n",
       "      <td>ITA</td>\n",
       "      <td>4</td>\n",
       "      <td>P.A. Trento</td>\n",
       "      <td>46.068935</td>\n",
       "      <td>11.121231</td>\n",
       "      <td>345</td>\n",
       "      <td>69</td>\n",
       "      <td>414</td>\n",
       "      <td>1564</td>\n",
       "      <td>1978</td>\n",
       "      <td>38</td>\n",
       "      <td>106</td>\n",
       "      <td>462</td>\n",
       "      <td>268</td>\n",
       "      <td>2708</td>\n",
       "      <td>14338</td>\n",
       "      <td>NaN</td>\n",
       "      <td>NaN</td>\n",
       "    </tr>\n",
       "    <tr>\n",
       "      <th>2020-04-09 17:00:00</th>\n",
       "      <td>ITA</td>\n",
       "      <td>10</td>\n",
       "      <td>Umbria</td>\n",
       "      <td>43.106758</td>\n",
       "      <td>12.388247</td>\n",
       "      <td>154</td>\n",
       "      <td>38</td>\n",
       "      <td>192</td>\n",
       "      <td>600</td>\n",
       "      <td>792</td>\n",
       "      <td>-31</td>\n",
       "      <td>9</td>\n",
       "      <td>455</td>\n",
       "      <td>51</td>\n",
       "      <td>1298</td>\n",
       "      <td>15170</td>\n",
       "      <td>NaN</td>\n",
       "      <td>NaN</td>\n",
       "    </tr>\n",
       "    <tr>\n",
       "      <th>2020-04-09 17:00:00</th>\n",
       "      <td>ITA</td>\n",
       "      <td>2</td>\n",
       "      <td>Valle d'Aosta</td>\n",
       "      <td>45.737503</td>\n",
       "      <td>7.320149</td>\n",
       "      <td>118</td>\n",
       "      <td>18</td>\n",
       "      <td>136</td>\n",
       "      <td>473</td>\n",
       "      <td>609</td>\n",
       "      <td>3</td>\n",
       "      <td>18</td>\n",
       "      <td>154</td>\n",
       "      <td>105</td>\n",
       "      <td>868</td>\n",
       "      <td>3142</td>\n",
       "      <td>NaN</td>\n",
       "      <td>NaN</td>\n",
       "    </tr>\n",
       "    <tr>\n",
       "      <th>2020-04-09 17:00:00</th>\n",
       "      <td>ITA</td>\n",
       "      <td>5</td>\n",
       "      <td>Veneto</td>\n",
       "      <td>45.434905</td>\n",
       "      <td>12.338452</td>\n",
       "      <td>1530</td>\n",
       "      <td>274</td>\n",
       "      <td>1804</td>\n",
       "      <td>8645</td>\n",
       "      <td>10449</td>\n",
       "      <td>278</td>\n",
       "      <td>523</td>\n",
       "      <td>1728</td>\n",
       "      <td>756</td>\n",
       "      <td>12933</td>\n",
       "      <td>171456</td>\n",
       "      <td>NaN</td>\n",
       "      <td>NaN</td>\n",
       "    </tr>\n",
       "  </tbody>\n",
       "</table>\n",
       "</div>"
      ],
      "text/plain": [
       "                    state  region_code         region   latitude  longitude  \\\n",
       "data                                                                          \n",
       "2020-04-09 17:00:00   ITA            9        Toscana  43.769231  11.255889   \n",
       "2020-04-09 17:00:00   ITA            4    P.A. Trento  46.068935  11.121231   \n",
       "2020-04-09 17:00:00   ITA           10         Umbria  43.106758  12.388247   \n",
       "2020-04-09 17:00:00   ITA            2  Valle d'Aosta  45.737503   7.320149   \n",
       "2020-04-09 17:00:00   ITA            5         Veneto  45.434905  12.338452   \n",
       "\n",
       "                     recovered  ICI  total_hospitelized  home_quarantine  \\\n",
       "data                                                                       \n",
       "2020-04-09 17:00:00       1038  256                1294             4409   \n",
       "2020-04-09 17:00:00        345   69                 414             1564   \n",
       "2020-04-09 17:00:00        154   38                 192              600   \n",
       "2020-04-09 17:00:00        118   18                 136              473   \n",
       "2020-04-09 17:00:00       1530  274                1804             8645   \n",
       "\n",
       "                     total_positives  delta_total_positives  new_positives  \\\n",
       "data                                                                         \n",
       "2020-04-09 17:00:00             5703                    146            173   \n",
       "2020-04-09 17:00:00             1978                     38            106   \n",
       "2020-04-09 17:00:00              792                    -31              9   \n",
       "2020-04-09 17:00:00              609                      3             18   \n",
       "2020-04-09 17:00:00            10449                    278            523   \n",
       "\n",
       "                     discharged_helthy  deaths  cases   swabs note_italian  \\\n",
       "data                                                                         \n",
       "2020-04-09 17:00:00                441     408   6552   65461          NaN   \n",
       "2020-04-09 17:00:00                462     268   2708   14338          NaN   \n",
       "2020-04-09 17:00:00                455      51   1298   15170          NaN   \n",
       "2020-04-09 17:00:00                154     105    868    3142          NaN   \n",
       "2020-04-09 17:00:00               1728     756  12933  171456          NaN   \n",
       "\n",
       "                    note_english  \n",
       "data                              \n",
       "2020-04-09 17:00:00          NaN  \n",
       "2020-04-09 17:00:00          NaN  \n",
       "2020-04-09 17:00:00          NaN  \n",
       "2020-04-09 17:00:00          NaN  \n",
       "2020-04-09 17:00:00          NaN  "
      ]
     },
     "execution_count": 4,
     "metadata": {},
     "output_type": "execute_result"
    }
   ],
   "source": [
    "dataset = pd.read_csv(\"/Users/eyal.beigman/COVID19/Data/covid-19-italy-situation-monitoring-by-region(1).csv\",parse_dates=['data'], index_col='data')\n",
    "#,parse_dates=['date']\n",
    "dataset.columns=mycolumns\n",
    "dataset.tail()"
   ]
  },
  {
   "cell_type": "code",
   "execution_count": 5,
   "metadata": {},
   "outputs": [
    {
     "data": {
      "text/plain": [
       "{'Abruzzo',\n",
       " 'Basilicata',\n",
       " 'Calabria',\n",
       " 'Campania',\n",
       " 'Emilia-Romagna',\n",
       " 'Friuli Venezia Giulia',\n",
       " 'Lazio',\n",
       " 'Liguria',\n",
       " 'Lombardia',\n",
       " 'Marche',\n",
       " 'Molise',\n",
       " 'P.A. Bolzano',\n",
       " 'P.A. Trento',\n",
       " 'Piemonte',\n",
       " 'Puglia',\n",
       " 'Sardegna',\n",
       " 'Sicilia',\n",
       " 'Toscana',\n",
       " 'Umbria',\n",
       " \"Valle d'Aosta\",\n",
       " 'Veneto'}"
      ]
     },
     "execution_count": 5,
     "metadata": {},
     "output_type": "execute_result"
    }
   ],
   "source": [
    "set(dataset['region'])"
   ]
  },
  {
   "cell_type": "code",
   "execution_count": 6,
   "metadata": {},
   "outputs": [],
   "source": [
    "df0=dataset[dataset['region']=='Lombardia']\n",
    "df1=dataset[dataset['region']=='Toscana']\n",
    "df2=dataset[dataset['region']=='Umbria']\n",
    "df3=dataset[dataset['region']=='Veneto']\n",
    "df4=dataset[dataset['region']=='Piemonte']\n"
   ]
  },
  {
   "cell_type": "code",
   "execution_count": 7,
   "metadata": {},
   "outputs": [
    {
     "name": "stderr",
     "output_type": "stream",
     "text": [
      "/Users/eyal.beigman/anaconda3/lib/python3.7/site-packages/pandas/plotting/_converter.py:129: FutureWarning: Using an implicitly registered datetime converter for a matplotlib plotting method. The converter was registered by pandas on import. Future versions of pandas will require you to explicitly register matplotlib converters.\n",
      "\n",
      "To register the converters:\n",
      "\t>>> from pandas.plotting import register_matplotlib_converters\n",
      "\t>>> register_matplotlib_converters()\n",
      "  warnings.warn(msg, FutureWarning)\n"
     ]
    },
    {
     "data": {
      "image/png": "[encoded data removed]",
      "text/plain": [
       "<Figure size 2160x720 with 1 Axes>"
      ]
     },
     "metadata": {
      "needs_background": "light"
     },
     "output_type": "display_data"
    }
   ],
   "source": [
    "plt.figure(figsize=(30,10))\n",
    "lbl0='Lombardia '+str(df0['longitude'][0])+' '+str(df0['latitude'][0])\n",
    "plt.bar(df0.index, df0['deaths'].diff(), color = 'yellow', label=lbl0 )\n",
    "lbl4='Piemonte '+str(df4['longitude'][0])+' '+str(df4['latitude'][0])\n",
    "plt.bar(df4.index, df4['deaths'].diff(), color = 'pink', label = lbl4)\n",
    "lbl3='Veneto '+str(df3['longitude'][0])+' '+str(df3['latitude'][0])\n",
    "plt.bar(df3.index, df3['deaths'].diff(), color = 'red', label = lbl3)\n",
    "lbl1='Toscana '+str(df1['longitude'][0])+' '+str(df1['latitude'][0])\n",
    "plt.bar(df1.index, df1['deaths'].diff(), color = 'orange', label = lbl1)\n",
    "lbl2='Umbria '+str(df2['longitude'][0])+' '+str(df2['latitude'][0])\n",
    "plt.bar(df2.index, df2['deaths'].diff(), color = 'blue', label = lbl2)\n",
    "#plt.xticks(np.arange(0, total_days, int(total_days/10)),fontsize = 15)\n",
    "#plt.yticks(np.arange(0, total_cases, int(total_cases/5)), fontsize = 15)\n",
    "plt.xlabel('Dates', fontsize=20)\n",
    "plt.ylabel('deaths',fontsize=20)\n",
    "plt.legend(frameon=True, fontsize=20)\n",
    "plt.grid(True)\n",
    "plt.show()"
   ]
  },
  {
   "cell_type": "code",
   "execution_count": 60,
   "metadata": {},
   "outputs": [
    {
     "data": {
      "text/plain": [
       "'Lombardia 9.190347404 45.46679409'"
      ]
     },
     "execution_count": 60,
     "metadata": {},
     "output_type": "execute_result"
    }
   ],
   "source": [
    "'Lombardia '+str(df0['longitude'][0])+' '+str(df0['latitude'][0])"
   ]
  },
  {
   "cell_type": "code",
   "execution_count": null,
   "metadata": {},
   "outputs": [],
   "source": []
  }
 ],
 "metadata": {
  "kernelspec": {
   "display_name": "Python 3",
   "language": "python",
   "name": "python3"
  },
  "language_info": {
   "codemirror_mode": {
    "name": "ipython",
    "version": 3
   },
   "file_extension": ".py",
   "mimetype": "text/x-python",
   "name": "python",
   "nbconvert_exporter": "python",
   "pygments_lexer": "ipython3",
   "version": "3.7.3"
  }
 },
 "nbformat": 4,
 "nbformat_minor": 2
}
